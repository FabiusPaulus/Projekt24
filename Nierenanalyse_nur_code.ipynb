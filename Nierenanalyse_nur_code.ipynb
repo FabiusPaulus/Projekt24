{
  "nbformat": 4,
  "nbformat_minor": 0,
  "metadata": {
    "colab": {
      "provenance": [],
      "include_colab_link": true
    },
    "kernelspec": {
      "name": "python3",
      "display_name": "Python 3"
    },
    "language_info": {
      "name": "python"
    }
  },
  "cells": [
    {
      "cell_type": "markdown",
      "metadata": {
        "id": "view-in-github",
        "colab_type": "text"
      },
      "source": [
        "<a href=\"https://colab.research.google.com/github/FabiusPaulus/Projekt24/blob/main/Nierenanalyse_nur_code.ipynb\" target=\"_parent\"><img src=\"https://colab.research.google.com/assets/colab-badge.svg\" alt=\"Open In Colab\"/></a>"
      ]
    },
    {
      "cell_type": "code",
      "execution_count": null,
      "metadata": {
        "id": "0NBEGN9NJT1H"
      },
      "outputs": [],
      "source": [
        "#Biblotheken importieren\n",
        "\n",
        "import pandas as pd\n",
        "import numpy as np\n",
        "import matplotlib.pyplot as plt\n",
        "import seaborn as sns\n",
        "import plotly.express as px\n",
        "\n",
        "import warnings\n",
        "warnings.filterwarnings('ignore')\n",
        "\n",
        "plt.style.use('fivethirtyeight')\n",
        "%matplotlib inline\n",
        "pd.set_option('display.max_columns', 26)"
      ]
    },
    {
      "cell_type": "code",
      "source": [
        "#Einlesen der Daten\n",
        "df= pd.read_csv('/chronic_kidney_disease.csv')\n",
        "df.head()"
      ],
      "metadata": {
        "id": "F4fxB0XZLYen"
      },
      "execution_count": null,
      "outputs": []
    },
    {
      "cell_type": "code",
      "source": [
        "#Spalte ID entfernen\n",
        "df.drop('id', axis = 1, inplace = True)"
      ],
      "metadata": {
        "id": "8alGfSftL31Y"
      },
      "execution_count": null,
      "outputs": []
    },
    {
      "cell_type": "code",
      "source": [
        "#Spaltennamen ändern\n",
        "\n",
        "df.columns = ['age', 'blood_pressure', 'specific_gravity', 'albumin', 'sugar', 'red_blood_cells', 'pus_cell',\n",
        "              'pus_cell_clumps', 'bacteria', 'blood_glucose_random', 'blood_urea', 'serum_creatinine', 'sodium',\n",
        "              'potassium', 'haemoglobin', 'packed_cell_volume', 'white_blood_cell_count', 'red_blood_cell_count',\n",
        "              'hypertension', 'diabetes_mellitus', 'coronary_artery_disease', 'appetite', 'peda_edema',\n",
        "              'aanemia', 'class']"
      ],
      "metadata": {
        "id": "LYyRBGYGMB7d"
      },
      "execution_count": null,
      "outputs": []
    },
    {
      "cell_type": "code",
      "source": [
        "#Vorschau der Daten\n",
        "df.head()"
      ],
      "metadata": {
        "id": "0qYUPJeUMFMT"
      },
      "execution_count": null,
      "outputs": []
    },
    {
      "cell_type": "markdown",
      "source": [
        "# **Explorative Datenanalyse**\n"
      ],
      "metadata": {
        "id": "pgS9-o5Xuvef"
      }
    },
    {
      "cell_type": "code",
      "source": [
        "df.shape"
      ],
      "metadata": {
        "id": "cya_n6xbLyCX"
      },
      "execution_count": null,
      "outputs": []
    },
    {
      "cell_type": "code",
      "source": [
        "df.describe()"
      ],
      "metadata": {
        "id": "ZGsDn9njwdoQ"
      },
      "execution_count": null,
      "outputs": []
    },
    {
      "cell_type": "code",
      "source": [
        "df.info()"
      ],
      "metadata": {
        "id": "7AizDpSNxfdS"
      },
      "execution_count": null,
      "outputs": []
    },
    {
      "cell_type": "code",
      "source": [
        "# Konvertierung Datentyp\n",
        "\n",
        "df['packed_cell_volume'] = pd.to_numeric(df['packed_cell_volume'], errors='coerce')\n",
        "df['white_blood_cell_count'] = pd.to_numeric(df['white_blood_cell_count'], errors='coerce')\n",
        "df['red_blood_cell_count'] = pd.to_numeric(df['red_blood_cell_count'], errors='coerce')"
      ],
      "metadata": {
        "id": "JqIWzR5fxyC5"
      },
      "execution_count": null,
      "outputs": []
    },
    {
      "cell_type": "code",
      "source": [
        "# Datentypen zeigen\n",
        "df.info()"
      ],
      "metadata": {
        "id": "KChsQjqFx2F8"
      },
      "execution_count": null,
      "outputs": []
    },
    {
      "cell_type": "code",
      "source": [
        "#Extrahierung von nummerischen und kategorischen Spalten\n",
        "\n",
        "cat_cols = [col for col in df.columns if df[col].dtype == 'object']\n",
        "num_cols = [col for col in df.columns if df[col].dtype != 'object']"
      ],
      "metadata": {
        "id": "WxWgn6oUx680"
      },
      "execution_count": null,
      "outputs": []
    },
    {
      "cell_type": "code",
      "source": [
        "#Ausgabe kategorischer Spalten\n",
        "print(cat_cols)"
      ],
      "metadata": {
        "id": "-LzeGMbbVECT"
      },
      "execution_count": null,
      "outputs": []
    },
    {
      "cell_type": "code",
      "source": [
        "#Darstellung der möglichen Werte in kategorischen Spalten\n",
        "\n",
        "for col in cat_cols:\n",
        "    print(f\"{col} has {df[col].unique()} values\\n\")"
      ],
      "metadata": {
        "id": "CysWVG4MyQS7"
      },
      "execution_count": null,
      "outputs": []
    },
    {
      "cell_type": "code",
      "source": [
        "#Ersetzen von fehlerhaften Einträgen\n",
        "\n",
        "df['diabetes_mellitus'].replace(to_replace = {'\\tno':'no','\\tyes':'yes',' yes':'yes'},inplace=True)\n",
        "\n",
        "df['coronary_artery_disease'] = df['coronary_artery_disease'].replace(to_replace = '\\tno', value='no')\n",
        "\n",
        "df['class'] = df['class'].replace(to_replace = {'ckd\\t': 'ckd', 'notckd': 'not ckd'})"
      ],
      "metadata": {
        "id": "AjDa6_3RyUWv"
      },
      "execution_count": null,
      "outputs": []
    },
    {
      "cell_type": "code",
      "source": [
        "#Alle 0 und 1 zu int oder float konvertieren oder als NaN deklarieren\n",
        "\n",
        "df['class'] = df['class'].map({'ckd': 0, 'not ckd': 1})\n",
        "df['class'] = pd.to_numeric(df['class'], errors='coerce')"
      ],
      "metadata": {
        "id": "CU6fDiRnzhDv"
      },
      "execution_count": null,
      "outputs": []
    },
    {
      "cell_type": "code",
      "source": [
        "# auf Normalverteilung prüfen\n",
        "\n",
        "plt.figure(figsize = (20, 15))\n",
        "plotnumber = 1\n",
        "\n",
        "for column in num_cols:\n",
        "    if plotnumber <= 14:\n",
        "        ax = plt.subplot(3, 5, plotnumber)\n",
        "        sns.distplot(df[column])\n",
        "        plt.xlabel(column)\n",
        "\n",
        "    plotnumber += 1\n",
        "\n",
        "plt.tight_layout()\n",
        "plt.show()"
      ],
      "metadata": {
        "id": "_CvJbOv02oev"
      },
      "execution_count": null,
      "outputs": []
    },
    {
      "cell_type": "code",
      "source": [
        "# kategorische Spalten betrachten\n",
        "\n",
        "plt.figure(figsize = (20, 15))\n",
        "plotnumber = 1\n",
        "\n",
        "for column in cat_cols:\n",
        "    if plotnumber <= 11:\n",
        "        ax = plt.subplot(3, 4, plotnumber)\n",
        "        sns.countplot(df[column], palette = 'rocket')\n",
        "        plt.xlabel(column)\n",
        "\n",
        "    plotnumber += 1\n",
        "\n",
        "plt.tight_layout()\n",
        "plt.show()"
      ],
      "metadata": {
        "id": "rxobbiHRzjwt"
      },
      "execution_count": null,
      "outputs": []
    },
    {
      "cell_type": "code",
      "source": [
        "# heatmap der Daten erstellen\n",
        "\n",
        "plt.figure(figsize = (15, 8))\n",
        "\n",
        "sns.heatmap(df.corr(), annot = True, linewidths = 2, linecolor = 'lightgrey')\n",
        "plt.show()"
      ],
      "metadata": {
        "id": "oBc-NlI04fPw"
      },
      "execution_count": null,
      "outputs": []
    },
    {
      "cell_type": "code",
      "source": [
        "def kde(col):\n",
        "    grid = sns.FacetGrid(df, hue=\"class\", height = 6, aspect=2)\n",
        "    grid.map(sns.kdeplot, col)\n",
        "    grid.add_legend()"
      ],
      "metadata": {
        "id": "LeiMDkRF5eki"
      },
      "execution_count": null,
      "outputs": []
    },
    {
      "cell_type": "code",
      "source": [
        "  def kde(col):\n",
        "    plt.figure(figsize=(8, 6))\n",
        "    # Replace \"?\" with NaN and then convert to numeric\n",
        "    df_numeric_ckd = pd.to_numeric(df[df['class'] == 0][col].replace('?', np.nan), errors='coerce')\n",
        "    sns.kdeplot(df_numeric_ckd, shade=True, label='CKD', color='blue')  # Set color for CKD class\n",
        "    # Replace \"?\" with NaN and then convert to numeric\n",
        "    df_numeric_notckd = pd.to_numeric(df[df['class'] == 1][col].replace('?', np.nan), errors='coerce')\n",
        "    sns.kdeplot(df_numeric_notckd, shade=True, label='Not CKD', color='orange')  # Set color for non-CKD class\n",
        "    plt.xlabel(col)\n",
        "    plt.title(f'KDE plot for {col} with class distribution')\n",
        "    plt.legend()\n",
        "    plt.show()\n",
        "\n",
        "kde('red_blood_cell_count')\n",
        "kde('packed_cell_volume')\n",
        "kde('haemoglobin')\n",
        "\n",
        "kde('red_blood_cell_count')"
      ],
      "metadata": {
        "id": "1J2D5pm_5gLK"
      },
      "execution_count": null,
      "outputs": []
    },
    {
      "cell_type": "code",
      "source": [
        "kde('white_blood_cell_count')"
      ],
      "metadata": {
        "id": "gVavBXk65l9f"
      },
      "execution_count": null,
      "outputs": []
    },
    {
      "cell_type": "code",
      "source": [
        "kde('packed_cell_volume')"
      ],
      "metadata": {
        "id": "dyT-RT5y5sdJ"
      },
      "execution_count": null,
      "outputs": []
    },
    {
      "cell_type": "code",
      "source": [
        "kde('haemoglobin')"
      ],
      "metadata": {
        "id": "DY5HZQ0p5yLO"
      },
      "execution_count": null,
      "outputs": []
    },
    {
      "cell_type": "code",
      "source": [
        "kde('albumin')"
      ],
      "metadata": {
        "id": "_SLN08oc51zt"
      },
      "execution_count": null,
      "outputs": []
    },
    {
      "cell_type": "code",
      "source": [
        "kde('blood_glucose_random')"
      ],
      "metadata": {
        "id": "sn5IKd9D55wN"
      },
      "execution_count": null,
      "outputs": []
    },
    {
      "cell_type": "code",
      "source": [
        "kde('specific_gravity')"
      ],
      "metadata": {
        "id": "SBS4ggzX6DHc"
      },
      "execution_count": null,
      "outputs": []
    },
    {
      "cell_type": "code",
      "source": [
        "kde('sodium')"
      ],
      "metadata": {
        "id": "fislT6FR59Ex"
      },
      "execution_count": null,
      "outputs": []
    },
    {
      "cell_type": "code",
      "source": [
        "kde('blood_urea')"
      ],
      "metadata": {
        "id": "kF5emxBI5_9m"
      },
      "execution_count": null,
      "outputs": []
    },
    {
      "cell_type": "code",
      "source": [
        "# Null-werte prüfen\n",
        "\n",
        "df.isna().sum().sort_values(ascending = False)"
      ],
      "metadata": {
        "id": "_1GfHPio8_L-"
      },
      "execution_count": null,
      "outputs": []
    },
    {
      "cell_type": "code",
      "source": [
        "df[num_cols].isnull().sum()"
      ],
      "metadata": {
        "id": "_sCQGTFQ9YVM"
      },
      "execution_count": null,
      "outputs": []
    },
    {
      "cell_type": "code",
      "source": [
        "df[cat_cols].isnull().sum()"
      ],
      "metadata": {
        "id": "qo7ICTiS9atS"
      },
      "execution_count": null,
      "outputs": []
    },
    {
      "cell_type": "code",
      "source": [
        "# Null-Werte füllen mit random sampling für höhere Werte and mean/mode sampling für niedrigere Werte\n",
        "\n",
        "def random_value_imputation(feature):\n",
        "    random_sample = df[feature].dropna().sample(df[feature].isna().sum())\n",
        "    random_sample.index = df[df[feature].isnull()].index\n",
        "    df.loc[df[feature].isnull(), feature] = random_sample\n",
        "\n",
        "def impute_mode(feature):\n",
        "    mode = df[feature].mode()[0]\n",
        "    df[feature] = df[feature].fillna(mode)"
      ],
      "metadata": {
        "id": "7K4gBtAb97OP"
      },
      "execution_count": null,
      "outputs": []
    },
    {
      "cell_type": "code",
      "source": [
        "df.isna().sum().sort_values(ascending = False)"
      ],
      "metadata": {
        "id": "QUSUZvlJ9_Er"
      },
      "execution_count": null,
      "outputs": []
    },
    {
      "cell_type": "code",
      "source": [
        "df[num_cols].isnull().sum()"
      ],
      "metadata": {
        "id": "8n5w3Upe-BZN"
      },
      "execution_count": null,
      "outputs": []
    },
    {
      "cell_type": "code",
      "source": [
        "# Null-Werte \"red_blood_cells\" und \"pus_cell\" auffüllen mit random sampling Methode und cat_cols auffüllen mit mode imputation\n",
        "\n",
        "random_value_imputation('red_blood_cells')\n",
        "random_value_imputation('pus_cell')\n",
        "\n",
        "for col in cat_cols:\n",
        "    impute_mode(col)"
      ],
      "metadata": {
        "id": "i6chFgAR-WuR"
      },
      "execution_count": null,
      "outputs": []
    },
    {
      "cell_type": "code",
      "source": [
        "#Null-Werte prüfen\n",
        "df[cat_cols].isnull().sum()"
      ],
      "metadata": {
        "id": "sKfdsVhg-tP5"
      },
      "execution_count": null,
      "outputs": []
    },
    {
      "cell_type": "code",
      "source": [
        "#prüfen wieviele verschiedene Werte die kategorischen Spalten haben\n",
        "for col in cat_cols:\n",
        "    print(f\"{col} has {df[col].nunique()} categories\\n\")"
      ],
      "metadata": {
        "id": "_z5mmt7p-wOH"
      },
      "execution_count": null,
      "outputs": []
    },
    {
      "cell_type": "code",
      "source": [
        "#LabelEncoder um kategorische Werte in nummerische umzuwandeln\n",
        "\n",
        "from sklearn.preprocessing import LabelEncoder\n",
        "\n",
        "le = LabelEncoder()\n",
        "\n",
        "for col in cat_cols:\n",
        "    df[col] = le.fit_transform(df[col])"
      ],
      "metadata": {
        "id": "UBAqpVg0-6Ce"
      },
      "execution_count": null,
      "outputs": []
    },
    {
      "cell_type": "code",
      "source": [
        "df.head()"
      ],
      "metadata": {
        "id": "vJCS1EG_-9ZB"
      },
      "execution_count": null,
      "outputs": []
    },
    {
      "cell_type": "code",
      "source": [
        "#Aufteilung in unabhängige und abhängige Variablen\n",
        "ind_col = [col for col in df.columns if col != 'class']\n",
        "dep_col = 'class'\n",
        "\n",
        "X = df[ind_col]\n",
        "y = df[dep_col]"
      ],
      "metadata": {
        "id": "hoxny1D1_NZc"
      },
      "execution_count": null,
      "outputs": []
    },
    {
      "cell_type": "code",
      "source": [
        "#wähle speziell die unabhängigen Variablen aus\n",
        "ind_col = []\n",
        "dep_col = 'class'\n",
        "\n",
        "for col in df.columns:\n",
        "  if col == 'specific_gravity':\n",
        "      ind_col.append(col)\n",
        "  if col == 'haemoglobin':\n",
        "      ind_col.append(col)\n",
        "  if col == 'packed_cell_volume':\n",
        "      ind_col.append(col)\n",
        "\n",
        "X = df[ind_col]\n",
        "y = df[dep_col]"
      ],
      "metadata": {
        "id": "vcrJ1gRmjYH1"
      },
      "execution_count": null,
      "outputs": []
    },
    {
      "cell_type": "code",
      "source": [
        "X.info()"
      ],
      "metadata": {
        "id": "ptlcjIM2gZiY"
      },
      "execution_count": null,
      "outputs": []
    },
    {
      "cell_type": "code",
      "source": [
        "# Aufteilung in Trainings- und Testdaten\n",
        "\n",
        "from sklearn.model_selection import train_test_split\n",
        "\n",
        "X_train, X_test, y_train, y_test = train_test_split(X, y, test_size = 0.30, random_state = 0)\n",
        "\n",
        "print(y_train.isnull().sum())\n"
      ],
      "metadata": {
        "id": "e4lUfZbxAbzu",
        "colab": {
          "base_uri": "https://localhost:8080/"
        },
        "outputId": "361114a8-d958-4a33-dca4-32e4d9f4dc91"
      },
      "execution_count": null,
      "outputs": [
        {
          "output_type": "stream",
          "name": "stdout",
          "text": [
            "0\n"
          ]
        }
      ]
    },
    {
      "cell_type": "code",
      "source": [
        "from sklearn.pipeline import Pipeline\n",
        "from sklearn.impute import SimpleImputer\n",
        "\n",
        "# Definiere eine Pipeline mit Imputer und KNeighborsClassifier\n",
        "pipeline = Pipeline([\n",
        "    ('imputer', SimpleImputer()),  # Hier kannst du die Strategie für die Imputation festlegen\n",
        "    ('classifier', KNeighborsClassifier())\n",
        "])\n",
        "\n",
        "# Trainiere das Modell mit der Pipeline\n",
        "pipeline.fit(X_train, y_train)\n",
        "\n",
        "# Bewertung des Modells\n",
        "knn_acc = accuracy_score(y_test, pipeline.predict(X_test))\n",
        "print(f\"Test Accuracy of KNN is {knn_acc}\")\n"
      ],
      "metadata": {
        "id": "19jr5R8AAhkI"
      },
      "execution_count": null,
      "outputs": []
    },
    {
      "cell_type": "markdown",
      "source": [
        "## Anwendung des trainierten KNN in einer Applikation. Die Daten für 'specific_gravity', 'haemoglobin' und 'packed_cell_colume' eintragen und direkt eine Auswertung bekommen, ob Krankheit vorliegt"
      ],
      "metadata": {
        "id": "Emvb6MX76iz_"
      }
    },
    {
      "cell_type": "code",
      "source": [
        "# Eingabeaufforderungen für den Benutzer\n",
        "specific_gravity = input(\"Geben Sie den Wert für 'specific_gravity' ein: \")\n",
        "haemoglobin = input(\"Geben Sie den Wert für 'haemoglobin' ein: \")\n",
        "packed_cell_volume = input(\"Geben Sie den Wert für 'packed_cell_volume' ein: \")\n",
        "\n",
        "# Erstellung eines DataFrame aus den Benutzereingaben\n",
        "# Wir müssen die Daten in ein \"pd.Dataframe\" Format bringen, weil knn.predict() solch ein Format erwartet.\n",
        "data_to_predict = pd.DataFrame({\n",
        "    'specific_gravity': [float(specific_gravity)],\n",
        "    'haemoglobin': [float(haemoglobin)],\n",
        "    'packed_cell_volume': [float(packed_cell_volume)]\n",
        "})\n",
        "\n",
        "# Verwendung des trainierten Modells zur Vorhersage\n",
        "predictions = knn.predict(data_to_predict)\n",
        "\n",
        "# Ausgabe der Vorhersage mit benutzerfreundlicher Nachricht\n",
        "if predictions[0] == 0:\n",
        "    print(\"Der Patient hat eine chronische Nierenerkrankung.\")\n",
        "else:\n",
        "    print(\"Der Patient hat keine chronische Nierenerkrankung.\")"
      ],
      "metadata": {
        "id": "_qTd-e-p0x3B"
      },
      "execution_count": null,
      "outputs": []
    }
  ]
}